{
 "cells": [
  {
   "cell_type": "code",
   "execution_count": 20,
   "id": "95961ff3",
   "metadata": {
    "vscode": {
     "languageId": "r"
    }
   },
   "outputs": [
    {
     "name": "stderr",
     "output_type": "stream",
     "text": [
      "\u001b[1m\u001b[22m\u001b[36mℹ\u001b[39m Loading \u001b[34mhmmTMB\u001b[39m\n"
     ]
    }
   ],
   "source": [
    "library(devtools)\n",
    "library(ggridges)\n",
    "library(gamlss)\n",
    "library(gamlss.mx)\n",
    "library(purrr)    # for map()\n",
    "library(dplyr)    # optional; %>% + helpers\n",
    "set.seed(1)\n",
    "\n",
    "load_all(\"../../../hmmTMB\")"
   ]
  },
  {
   "cell_type": "code",
   "execution_count": 21,
   "id": "c4589791",
   "metadata": {
    "vscode": {
     "languageId": "r"
    }
   },
   "outputs": [],
   "source": [
    "## ------------------------------------------------------------------\n",
    "## 1.  Observation-key  →  distribution name  (unchanged)\n",
    "## ------------------------------------------------------------------\n",
    "dists <- list(\n",
    "  beta_obs       = \"beta\",\n",
    "  binom_obs      = \"binom\",\n",
    "  # cat_obs        = \"cat3\",\n",
    "  # dir_obs        = \"dir\",\n",
    "  exp_obs        = \"exp\",\n",
    "  foldednorm_obs = \"foldednorm\",\n",
    "  gamma_obs      = \"gamma\",\n",
    "  gamma2_obs     = \"gamma2\",\n",
    "  lnorm_obs      = \"lnorm\",\n",
    "  # mvnorm_obs     = \"mvnorm\",\n",
    "  nbinom_obs     = \"nbinom\",\n",
    "  nbinom2_obs    = \"nbinom2\",\n",
    "  norm_obs       = \"norm\",\n",
    "  pois_obs       = \"pois\",\n",
    "  t_obs          = \"t\",\n",
    "  truncnorm_obs  = \"truncnorm\",\n",
    "  # tweedie_obs    = \"tweedie\",\n",
    "  vm_obs         = \"vm\",\n",
    "  weibull_obs    = \"weibull\",\n",
    "  wrpcauchy_obs  = \"wrpcauchy\",\n",
    "  zibinom_obs    = \"zibinom\",\n",
    "  zigamma_obs    = \"zigamma\",\n",
    "  zigamma2_obs   = \"zigamma2\",\n",
    "  zinbinom_obs   = \"zinbinom\",\n",
    "  zipois_obs     = \"zipois\",\n",
    "  zoibeta_obs    = \"zoibeta\",\n",
    "  ztnbinom_obs   = \"ztnbinom\",\n",
    "  ztpois_obs     = \"ztpois\"\n",
    ")\n",
    "\n",
    "## ------------------------------------------------------------------\n",
    "## 2.  Parameter sets  –- now TWO values per parameter (state 1, state 2)\n",
    "## ------------------------------------------------------------------\n",
    "params <- list(\n",
    "  beta_obs       = list(shape1   = c( 2,  5),   shape2   = c( 5, 2)),\n",
    "  binom_obs      = list(size     = c(10, 20),   prob     = c(0.50, 0.30)),\n",
    "  # cat_obs        = list(p1       = c(0.30, 0.10), p2 = c(0.50, 0.60)),\n",
    "  # dir_obs        = list(alpha1   = c( 2,  5),   alpha2   = c( 3, 1)),\n",
    "  exp_obs        = list(rate     = c( 1,  3)),\n",
    "  foldednorm_obs = list(mean     = c( 0,  1),   sd       = c(1, 2)),\n",
    "  gamma_obs      = list(shape    = c( 2,  5),   scale    = c(1, 2)),\n",
    "  gamma2_obs     = list(mean     = c( 2,  5),   sd       = c(1, 2)),\n",
    "  lnorm_obs      = list(meanlog  = c( 0,  1),   sdlog    = c(1, 0.5)),\n",
    "  # mvnorm_obs     = list(mu1      = c( 0,  1),   mu2      = c( 0, 0.5),\n",
    "                        # sd1      = c( 1,  2),   sd2      = c(1, 1),\n",
    "                        # corr12   = c( 0,  0)),\n",
    "  nbinom_obs     = list(size     = c(10, 20),   prob     = c(0.50, 0.30)),\n",
    "  nbinom2_obs    = list(mean     = c(10, 20),   shape    = c(1, 3)),\n",
    "  norm_obs       = list(mean     = c( 0,  3),   sd       = c(1, 2)),\n",
    "  pois_obs       = list(rate     = c( 2,  7)),\n",
    "  t_obs          = list(mean     = c( 0,  2),   scale    = c(1, 3)),\n",
    "  truncnorm_obs  = list(mean     = c(-1,  2),   sd       = c(1, 2),\n",
    "                        min      = c(-2,  0),   max      = c(1, 3)),\n",
    "  # tweedie_obs    = list(mean     = c( 5,  10),  p        = c(0.8, 0.5),\n",
    "  #                       phi      = c( 1,  2)),\n",
    "  vm_obs         = list(mu       = c( 0,  1),   kappa    = c(2, 5)),\n",
    "  weibull_obs    = list(shape    = c( 2,  1),   scale    = c(1, 3)),\n",
    "  wrpcauchy_obs  = list(mu       = c( 0,  2),   rho      = c(0.7, 0.4)),\n",
    "  zibinom_obs    = list(size     = c(10, 20),   prob     = c(0.50, 0.30),\n",
    "                        z        = c(0.20, 0.10)),\n",
    "  zigamma_obs    = list(shape    = c( 2,  5),   scale    = c(1, 2),\n",
    "                        z        = c(0.20, 0.10)),\n",
    "  zigamma2_obs   = list(mean     = c( 2,  5),   sd       = c(1, 2),\n",
    "                        z        = c(0.20, 0.10)),\n",
    "  zinbinom_obs   = list(size     = c(10, 20),   prob     = c(0.50, 0.30),\n",
    "                        z        = c(0.20, 0.10)),\n",
    "  zipois_obs     = list(rate     = c( 2,  7),   z        = c(0.20, 0.10)),\n",
    "  zoibeta_obs    = list(shape1   = c( 2,  5),   shape2   = c(5, 2),\n",
    "                        zeromass = c(0.10, 0.20), onemass = c(0.10, 0.05)),\n",
    "  ztnbinom_obs   = list(size     = c(10, 20),   prob     = c(0.50, 0.30)),\n",
    "  ztpois_obs     = list(rate     = c( 2,  7))\n",
    ")\n",
    "\n",
    "## ------------------------------------------------------------------\n",
    "## 3.  Evaluation grids  (Linear arrays appart from dir and mvnorm which are matrices)\n",
    "## ------------------------------------------------------------------\n",
    "evaluation_vals <- list(\n",
    "  beta_obs       = seq(0.05, 0.995, by = 0.01),               # was seq(0,   1,    0.01)\n",
    "  binom_obs      = 0:10,\n",
    "  # cat_obs        = 1:3,\n",
    "  # dir_obs        = sapply(seq(0.005, 0.995, by = 0.01),          # was seq(0,   1,    0.05)\n",
    "  #                         function(x) c(x, 1 - x)),\n",
    "  exp_obs        = seq(0.05, 3, by = 0.10),\n",
    "  foldednorm_obs = seq(0.05, 5, by = 0.10),\n",
    "  gamma_obs      = seq(0.05, 10, by = 0.10),\n",
    "  gamma2_obs     = seq(0.05, 10, by = 0.10),\n",
    "  lnorm_obs      = seq(0.01, 10, by = 0.10),\n",
    "  # mvnorm_obs     = t(as.matrix(expand.grid(seq(-3,3,0.2), seq(-3,3,0.2)))),\n",
    "  nbinom_obs     = 0:30,\n",
    "  nbinom2_obs    = 0:30,\n",
    "  norm_obs       = seq(-3, 3, by = 0.10),\n",
    "  pois_obs       = 0:20,\n",
    "  t_obs          = seq(-5, 5, by = 0.10),\n",
    "  truncnorm_obs  = seq(-1.975, 2.975, by = 0.15),              # was seq(-2,  3,   0.05)\n",
    "  # tweedie_obs    = seq(0, 2, by = 0.05),\n",
    "  vm_obs         = seq(-pi, pi, length.out = 100),\n",
    "  weibull_obs    = seq(0.05, 10, by = 0.10),\n",
    "  wrpcauchy_obs  = seq(-pi, pi, length.out = 100),\n",
    "  zibinom_obs    = 0:10,\n",
    "  zigamma_obs    = seq(0, 5, by = 0.1),\n",
    "  zigamma2_obs   = seq(0, 5, by = 0.1),\n",
    "  zinbinom_obs   = 0:30,\n",
    "  zipois_obs     = 0:20,\n",
    "  zoibeta_obs    = seq(0, 1, by = 0.01),               # was seq(0.01,0.99,0.01)\n",
    "  ztnbinom_obs   = 0:30,\n",
    "  ztpois_obs     = 0:20\n",
    ")"
   ]
  },
  {
   "cell_type": "code",
   "execution_count": 22,
   "id": "40357fcb",
   "metadata": {
    "vscode": {
     "languageId": "r"
    }
   },
   "outputs": [],
   "source": [
    "\n",
    "n_training <- 2\n",
    "training_df <- data.frame(\n",
    "  ID = rep(1, n_training),\n",
    "  matrix(rep(NA, n_training * length(dists)), nrow = n_training, dimnames = list(NULL, names(dists)))\n",
    ")\n",
    "training_df$mvnorm_obs <- I(replicate(n_training, c(NA, NA), simplify = FALSE))\n",
    "\n",
    "tpm <- matrix(c(0.15, 0.9, 0.85, 0.1), 2, 2)\n",
    "starting_state <- c(0.9, 0.1)\n",
    "# crafted such that hidden state at n=1 = (0.225 0.775)\n",
    "# and hidden state at n=2 = (0.73125 0.26875)\n",
    "\n",
    "## Create True Model ----------------------------------------------------\n",
    "hid_mod <- MarkovChain$new(\n",
    "  data = training_df,\n",
    "  n_states = 2,\n",
    "  tpm = tpm\n",
    ")\n",
    "hid_mod$update_delta0(starting_state)\n",
    "obs_mod <- Observation$new(\n",
    "  data = training_df,\n",
    "  n_states = 2,\n",
    "  dists = dists,\n",
    "  par = params\n",
    ")\n",
    "true_mod <- HMM$new(obs = obs_mod, hid = hid_mod)"
   ]
  },
  {
   "cell_type": "code",
   "execution_count": 28,
   "id": "58b034e6",
   "metadata": {
    "vscode": {
     "languageId": "r"
    }
   },
   "outputs": [
    {
     "ename": "ERROR",
     "evalue": "Error: object 'name' not found\n",
     "output_type": "error",
     "traceback": [
      "Error: object 'name' not found\nTraceback:\n",
      "1. match.fun(FUN)",
      "2. .handleSimpleError(function (cnd) \n . {\n .     watcher$capture_plot_and_output()\n .     cnd <- sanitize_call(cnd)\n .     watcher$push(cnd)\n .     switch(on_error, continue = invokeRestart(\"eval_continue\"), \n .         stop = invokeRestart(\"eval_stop\"), error = NULL)\n . }, \"object 'name' not found\", base::quote(eval(expr, envir)))"
     ]
    }
   ],
   "source": [
    "dist_names <- lapply(true_mod$obs()$dists(), name)\n",
    "dist_names"
   ]
  },
  {
   "cell_type": "code",
   "execution_count": 38,
   "id": "70e30304",
   "metadata": {
    "vscode": {
     "languageId": "r"
    }
   },
   "outputs": [
    {
     "data": {
      "text/html": [
       "<style>\n",
       ".list-inline {list-style: none; margin:0; padding: 0}\n",
       ".list-inline>li {display: inline-block}\n",
       ".list-inline>li:not(:last-child)::after {content: \"\\00b7\"; padding: 0 .5ex}\n",
       "</style>\n",
       "<ol class=list-inline><li>TRUE</li><li>FALSE</li><li>FALSE</li><li>FALSE</li><li>FALSE</li><li>FALSE</li><li>FALSE</li><li>FALSE</li><li>FALSE</li><li>FALSE</li><li>FALSE</li><li>FALSE</li><li>FALSE</li><li>FALSE</li><li>FALSE</li><li>FALSE</li><li>FALSE</li><li>FALSE</li><li>FALSE</li><li>FALSE</li><li>FALSE</li><li>FALSE</li><li>FALSE</li><li>FALSE</li></ol>\n"
      ],
      "text/latex": [
       "\\begin{enumerate*}\n",
       "\\item TRUE\n",
       "\\item FALSE\n",
       "\\item FALSE\n",
       "\\item FALSE\n",
       "\\item FALSE\n",
       "\\item FALSE\n",
       "\\item FALSE\n",
       "\\item FALSE\n",
       "\\item FALSE\n",
       "\\item FALSE\n",
       "\\item FALSE\n",
       "\\item FALSE\n",
       "\\item FALSE\n",
       "\\item FALSE\n",
       "\\item FALSE\n",
       "\\item FALSE\n",
       "\\item FALSE\n",
       "\\item FALSE\n",
       "\\item FALSE\n",
       "\\item FALSE\n",
       "\\item FALSE\n",
       "\\item FALSE\n",
       "\\item FALSE\n",
       "\\item FALSE\n",
       "\\end{enumerate*}\n"
      ],
      "text/markdown": [
       "1. TRUE\n",
       "2. FALSE\n",
       "3. FALSE\n",
       "4. FALSE\n",
       "5. FALSE\n",
       "6. FALSE\n",
       "7. FALSE\n",
       "8. FALSE\n",
       "9. FALSE\n",
       "10. FALSE\n",
       "11. FALSE\n",
       "12. FALSE\n",
       "13. FALSE\n",
       "14. FALSE\n",
       "15. FALSE\n",
       "16. FALSE\n",
       "17. FALSE\n",
       "18. FALSE\n",
       "19. FALSE\n",
       "20. FALSE\n",
       "21. FALSE\n",
       "22. FALSE\n",
       "23. FALSE\n",
       "24. FALSE\n",
       "\n",
       "\n"
      ],
      "text/plain": [
       " [1]  TRUE FALSE FALSE FALSE FALSE FALSE FALSE FALSE FALSE FALSE FALSE FALSE\n",
       "[13] FALSE FALSE FALSE FALSE FALSE FALSE FALSE FALSE FALSE FALSE FALSE FALSE"
      ]
     },
     "metadata": {},
     "output_type": "display_data"
    }
   ],
   "source": [
    "unlist(lapply(true_mod$obs()$dists(), function(x) x$name())) %in% \"beta\""
   ]
  },
  {
   "cell_type": "code",
   "execution_count": 4,
   "id": "f935824a",
   "metadata": {
    "vscode": {
     "languageId": "r"
    }
   },
   "outputs": [],
   "source": [
    "n_forecast <- 2\n",
    "forecast_df <- data.frame(\n",
    "  ID = rep(1, n_forecast),\n",
    "  matrix(rep(NA, n_forecast * length(dists)), nrow = n_forecast, dimnames = list(NULL, names(dists)))\n",
    ")\n",
    "forecast_df$mvnorm_obs <- I(replicate(n_forecast, c(NA, NA), simplify = FALSE))\n",
    "\n",
    "forecast <- Forecast$new(\n",
    "  hmm = true_mod,\n",
    "  forecast_data = forecast_df,\n",
    "  preset_eval_range = evaluation_vals,\n",
    "  starting_state_distribution = starting_state %*% tpm,\n",
    ")"
   ]
  },
  {
   "cell_type": "code",
   "execution_count": null,
   "id": "e111066a",
   "metadata": {
    "vscode": {
     "languageId": "r"
    }
   },
   "outputs": [
    {
     "name": "stderr",
     "output_type": "stream",
     "text": [
      "Completed 100 simulations\n",
      "\n",
      "Completed 200 simulations\n",
      "\n",
      "Completed 300 simulations\n",
      "\n",
      "Completed 400 simulations\n",
      "\n",
      "Completed 500 simulations\n",
      "\n"
     ]
    }
   ],
   "source": [
    "run_sims <- TRUE\n",
    "if (run_sims==TRUE) {\n",
    "  # Simulate from the true model ------------------------------------------\n",
    "  n_simulations <- 500 # Warning: Takes ~1 minutes per 100 simulations (~2hrs for 10,000)\n",
    "\n",
    "  # Initialize a named list of 2D arrays to store the simulation results\n",
    "  simulated_runs <- list()\n",
    "  for (obs in names(dists)) {\n",
    "    simulated_runs[[obs]] <- matrix(\n",
    "      vector(\"list\", n_simulations * n_forecast),\n",
    "      nrow = n_simulations, ncol = n_forecast\n",
    "    )\n",
    "  }\n",
    "\n",
    "  true_mod$hid()$update_delta0(starting_state %*% tpm)\n",
    "\n",
    "  # Simulate data and store it in the array\n",
    "  for (i in 1:n_simulations) {\n",
    "    sim <- true_mod$simulate(n = n_forecast, data = forecast_df, silent = TRUE)\n",
    "\n",
    "    for (obs in names(dists)) {\n",
    "      simulated_runs[[obs]][i, ] <- sim[[obs]]\n",
    "    }\n",
    "    if (i %% 100 == 0) {\n",
    "      message(sprintf(\"Completed %d simulations\", i))\n",
    "      saveRDS(simulated_runs, file = \"../../tests/testthat/data/simulated_runs.rds\")\n",
    "    }\n",
    "  }\n",
    "  saveRDS(simulated_runs, file = \"test_data/simulated_runs.rds\")\n",
    "} else {\n",
    "  simulated_runs <- readRDS(\"test_data/simulated_runs.rds\")\n",
    "}\n"
   ]
  },
  {
   "cell_type": "code",
   "execution_count": 17,
   "id": "92cc530f",
   "metadata": {
    "vscode": {
     "languageId": "r"
    }
   },
   "outputs": [],
   "source": [
    "dist_class <- list(\n",
    "  discrete           = c(\"binom_obs\", \"pois_obs\", \"nbinom_obs\", \"nbinom2_obs\",\n",
    "                          \"zibinom_obs\", \"zinbinom_obs\", \"zipois_obs\",\n",
    "                          \"ztnbinom_obs\", \"ztpois_obs\"),\n",
    "  zero_inflated      = c(\"zigamma_obs\", \"zigamma2_obs\"),\n",
    "  zero_one_inflated  = c(\"zoibeta_obs\")\n",
    ")\n",
    "\n",
    "is_discrete          <- function(x) x %in% dist_class$discrete\n",
    "is_zero_inflated     <- function(x) x %in% dist_class$zero_inflated\n",
    "is_zero_one_inflated <- function(x) x %in% dist_class$zero_one_inflated\n",
    "\n",
    "# ~~~~~~~~~~~~~~~~~~~~~~~~~~~~~~~~~~~~~~~~~~~~~~~~~~~~~~~~~~~~~~~~~~~~~~~~~~~~~\n",
    "# 1.  Density helpers\n",
    "# ~~~~~~~~~~~~~~~~~~~~~~~~~~~~~~~~~~~~~~~~~~~~~~~~~~~~~~~~~~~~~~~~~~~~~~~~~~~~~\n",
    "\n",
    "# --- 1a. Discrete PMF -------------------------------------------------------\n",
    "\n",
    "discrete_pdf <- function(sample_mat, eval_range) {\n",
    "  apply(sample_mat, 2, function(col) {\n",
    "    col <- as.numeric(col)\n",
    "    counts <- table(factor(col, levels = eval_range))\n",
    "    as.numeric(counts) / length(col)\n",
    "  })\n",
    "}\n",
    "\n",
    "# --- 1b. Simple KDE ---------------------------------------------------------\n",
    "\n",
    "kde_simple <- function(x, eval_range, bw) {\n",
    "  x <- as.numeric(x)\n",
    "  dens <- density(x,\n",
    "                  from   = min(eval_range),\n",
    "                  to     = max(eval_range),\n",
    "                  n      = length(eval_range),\n",
    "                  bw     = bw,\n",
    "                  cut    = 0,\n",
    "                  kernel = \"gaussian\")\n",
    "  dens$y\n",
    "}\n",
    "\n",
    "# --- 1c. Zero‑inflated on [0, ∞) -------------------------------------------\n",
    "\n",
    "zi_pdf <- function(sample_mat, eval_range, bw) {\n",
    "  n_eval     <- length(eval_range)\n",
    "  inner_vals <- eval_range[-1]\n",
    "\n",
    "  apply(sample_mat, 2, function(col) {\n",
    "    col   <- as.numeric(col)\n",
    "    prob0 <- mean(col == 0)\n",
    "    cont  <- col[col > 0]\n",
    "    dens_y <- kde_simple(cont, inner_vals, bw)\n",
    "    c(prob0, dens_y * (1 - prob0))\n",
    "  })\n",
    "}\n",
    "\n",
    "# --- 1d. Zero‑one‑inflated on (0,1) ----------------------------------------\n",
    "\n",
    "zoi_pdf <- function(sample_mat, eval_range, bw) {\n",
    "  n_eval     <- length(eval_range)\n",
    "  inner_vals <- eval_range[-c(1, n_eval)]\n",
    "\n",
    "  apply(sample_mat, 2, function(col) {\n",
    "    col <- as.numeric(col)\n",
    "    prob0 <- mean(col == 0)\n",
    "    prob1 <- mean(col == 1)\n",
    "    cont  <- col[col > 0 & col < 1]\n",
    "    dens_y <- kde_simple(cont, inner_vals, bw)\n",
    "    c(prob0, dens_y * (1 - prob0 - prob1), prob1)\n",
    "  })\n",
    "}\n",
    "\n",
    "# --- 1e. Plain KDE ----------------------------------------------------------\n",
    "\n",
    "kde_pdf <- function(sample_mat, eval_range, bw) {\n",
    "  apply(sample_mat, 2, function(col) {\n",
    "    col <- as.numeric(col)\n",
    "    kde_simple(col, eval_range, bw)\n",
    "  })\n",
    "}\n",
    "\n",
    "# ~~~~~~~~~~~~~~~~~~~~~~~~~~~~~~~~~~~~~~~~~~~~~~~~~~~~~~~~~~~~~~~~~~~~~~~~~~~~~\n",
    "# 2.  Wrapper for one observation family\n",
    "# ~~~~~~~~~~~~~~~~~~~~~~~~~~~~~~~~~~~~~~~~~~~~~~~~~~~~~~~~~~~~~~~~~~~~~~~~~~~~~\n",
    "\n",
    "build_pdf <- function(obs_name) {\n",
    "  eval_range <- evaluation_vals[[obs_name]]\n",
    "  bw         <- diff(eval_range)[1]\n",
    "  sim_mat <- simulated_runs[[obs_name]]\n",
    "\n",
    "  if (is_discrete(obs_name))          return(discrete_pdf(sim_mat, eval_range))\n",
    "  if (is_zero_inflated(obs_name))     return(zi_pdf(sim_mat, eval_range, bw))\n",
    "  if (is_zero_one_inflated(obs_name)) return(zoi_pdf(sim_mat, eval_range, bw))\n",
    "  kde_pdf(sim_mat, eval_range, bw*2)\n",
    "}\n",
    "\n",
    "# ~~~~~~~~~~~~~~~~~~~~~~~~~~~~~~~~~~~~~~~~~~~~~~~~~~~~~~~~~~~~~~~~~~~~~~~~~~~~~\n",
    "# 3.  Build PDFs for all distributions\n",
    "# ~~~~~~~~~~~~~~~~~~~~~~~~~~~~~~~~~~~~~~~~~~~~~~~~~~~~~~~~~~~~~~~~~~~~~~~~~~~~~\n",
    "\n",
    "simulated_pdfs <- vector(\"list\", length(dists))\n",
    "names(simulated_pdfs) <- names(dists)\n",
    "for (obs in names(dists)) {\n",
    "  simulated_pdfs[[obs]] <- build_pdf(obs)\n",
    "}\n",
    "saveRDS(simulated_pdfs, file = \"test_data/simulated_pdfs.rds\")"
   ]
  },
  {
   "cell_type": "code",
   "execution_count": 18,
   "id": "a9999949",
   "metadata": {
    "vscode": {
     "languageId": "r"
    }
   },
   "outputs": [
    {
     "name": "stdout",
     "output_type": "stream",
     "text": [
      "[1] \"beta_obs\"\n",
      "── \u001b[1m\u001b[33mFailure\u001b[39m: Forecasted PDFs match simulated PDFs for  beta\u001b[22m ─────────────────────\n",
      "all(abs(sim_pdf - forecast_pdf) < 0.01) is not TRUE\n",
      "\n",
      "`actual`:   \u001b[32mFALSE\u001b[39m\n",
      "`expected`: \u001b[32mTRUE\u001b[39m \n",
      "PDF values differ by more than 0.01 for beta_obs at forecast time step 1\n",
      "\n",
      "── \u001b[1m\u001b[33mFailure\u001b[39m: Forecasted PDFs match simulated PDFs for  beta\u001b[22m ─────────────────────\n",
      "all(abs(sim_pdf - forecast_pdf) < 0.01) is not TRUE\n",
      "\n",
      "`actual`:   \u001b[32mFALSE\u001b[39m\n",
      "`expected`: \u001b[32mTRUE\u001b[39m \n",
      "PDF values differ by more than 0.01 for beta_obs at forecast time step 2\n",
      "\n"
     ]
    },
    {
     "ename": "ERROR",
     "evalue": "\u001b[1m\u001b[33mError\u001b[39m:\u001b[22m\n\u001b[33m!\u001b[39m Test failed\n",
     "output_type": "error",
     "traceback": [
      "\u001b[1m\u001b[33mError\u001b[39m:\u001b[22m\n\u001b[33m!\u001b[39m Test failed\nTraceback:\n",
      "1. (function () \n . expr)()",
      "2. reporter$stop_if_needed()",
      "3. abort(\"Test failed\", call = NULL)",
      "4. signal_abort(cnd, .file)",
      "5. signalCondition(cnd)"
     ]
    }
   ],
   "source": [
    "for (obs in names(dists)) {\n",
    "  test_that(paste(\"Forecasted PDFs match simulated PDFs for \", dists[[obs]]), {\n",
    "    print(obs)\n",
    "    for (i in seq_len(n_forecast)) {\n",
    "      sim_pdf <- simulated_pdfs[[obs]][, i]\n",
    "      forecast_pdf <- forecast$forecast_dists()[[obs]][, i]\n",
    "      \n",
    "      # Ignore first and last elements which are biased by edge effects\n",
    "      if (obs %in% c(\"exp_obs\", \"truncnorm_obs\")) {\n",
    "        sim_pdf <- sim_pdf[-c(1, length(sim_pdf))]\n",
    "        forecast_pdf <- forecast_pdf[-c(1, length(forecast_pdf))]\n",
    "      }\n",
    "      \n",
    "      ks <- ks.test(sim_pdf, forecast_pdf)\n",
    "      expect_true(\n",
    "        all(abs(sim_pdf - forecast_pdf) < 0.01),\n",
    "        info = paste(\"PDF values differ by more than 0.01 for\", obs, \"at forecast time step\", i)\n",
    "      )\n",
    "    }\n",
    "  })\n",
    "}\n"
   ]
  },
  {
   "cell_type": "code",
   "execution_count": 19,
   "id": "896b22a9",
   "metadata": {
    "vscode": {
     "languageId": "r"
    }
   },
   "outputs": [
    {
     "data": {
      "image/png": "[encoded data removed]",
      "text/plain": [
       "plot without title"
      ]
     },
     "metadata": {
      "image/png": {
       "height": 420,
       "width": 420
      }
     },
     "output_type": "display_data"
    }
   ],
   "source": [
    "library(ggplot2)\n",
    "obs <- \"beta_obs\" # Change this to the observation you want to plot\n",
    "# Prepare data for combined ridge plot\n",
    "if (!is.null(dim(evaluation_vals[[obs]]))) {\n",
    "  eval_range <- unique(evaluation_vals[[obs]][1, ])\n",
    "} else {\n",
    "  eval_range <- evaluation_vals[[obs]]\n",
    "}\n",
    "\n",
    "combined_data <- rbind(\n",
    "  data.frame(\n",
    "    x = rep(eval_range, n_forecast),\n",
    "    time = rep(1:n_forecast, each = length(eval_range)),\n",
    "    density = as.vector(forecast_dists[[obs]])/max(as.vector(simulated_pdfs[[obs]])),\n",
    "    type = \"Forecasted\"\n",
    "  ),\n",
    "  data.frame(\n",
    "    x = rep(eval_range, n_forecast),\n",
    "    time = rep(1:n_forecast, each = length(eval_range)),\n",
    "    density = as.vector(simulated_pdfs[[obs]])/max(as.vector(simulated_pdfs[[obs]])),\n",
    "    type = \"Simulated\"\n",
    "  )\n",
    ")\n",
    "\n",
    "# Create combined ridge plot\n",
    "ggplot(combined_data, aes(x = x, y = factor(time), height = density, fill = type)) +\n",
    "  geom_ridgeline(alpha = 0.3) +\n",
    "  scale_fill_manual(values = c(\"Forecasted\" = \"blue\", \"Simulated\" = \"red\")) +\n",
    "  labs(\n",
    "    title = paste(\"Combined Ridge Plot for\", obs),\n",
    "    x = \"Values\",\n",
    "    y = \"Time Step\",\n",
    "    fill = \"Type\"\n",
    "  ) +\n",
    "  theme_minimal() +\n",
    "  coord_cartesian(ylim = c(1, 3))\n"
   ]
  }
 ],
 "metadata": {
  "kernelspec": {
   "display_name": "R",
   "language": "R",
   "name": "ir"
  },
  "language_info": {
   "codemirror_mode": "r",
   "file_extension": ".r",
   "mimetype": "text/x-r-source",
   "name": "R",
   "pygments_lexer": "r",
   "version": "4.4.3"
  }
 },
 "nbformat": 4,
 "nbformat_minor": 5
}
